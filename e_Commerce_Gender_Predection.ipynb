{
  "nbformat": 4,
  "nbformat_minor": 0,
  "metadata": {
    "colab": {
      "name": "e-Commerce_Gender_Predection.ipynb",
      "provenance": [],
      "collapsed_sections": [],
      "authorship_tag": "ABX9TyNxrHkb15INe80wd0HopdQC",
      "include_colab_link": true
    },
    "kernelspec": {
      "name": "python3",
      "display_name": "Python 3"
    }
  },
  "cells": [
    {
      "cell_type": "markdown",
      "metadata": {
        "id": "view-in-github",
        "colab_type": "text"
      },
      "source": [
        "<a href=\"https://colab.research.google.com/github/kisharahamed/GenderPredection/blob/master/e_Commerce_Gender_Predection.ipynb\" target=\"_parent\"><img src=\"https://colab.research.google.com/assets/colab-badge.svg\" alt=\"Open In Colab\"/></a>"
      ]
    },
    {
      "cell_type": "code",
      "metadata": {
        "id": "n5U5xgSHgm1j",
        "colab_type": "code",
        "colab": {}
      },
      "source": [
        "import pandas as pd\n",
        "import numpy as np\n",
        "\n",
        "\n",
        "import warnings\n",
        "warnings.filterwarnings('ignore')"
      ],
      "execution_count": 0,
      "outputs": []
    },
    {
      "cell_type": "code",
      "metadata": {
        "id": "ZYZkaXnvg-oI",
        "colab_type": "code",
        "colab": {}
      },
      "source": [
        "#header_str =  ['user_id','startTime','endTime','ProductList']\n",
        "data_set = pd.read_csv(\"train.csv\")\n",
        "test_data_set = pd.read_csv(\"test.csv\")"
      ],
      "execution_count": 0,
      "outputs": []
    },
    {
      "cell_type": "code",
      "metadata": {
        "id": "MmqTwHqRhGpW",
        "colab_type": "code",
        "colab": {
          "base_uri": "https://localhost:8080/",
          "height": 51
        },
        "outputId": "1189c7c8-131b-4d8f-d965-7cdce45b92c0"
      },
      "source": [
        "print(data_set.shape)\n",
        "print(test_data_set.shape)"
      ],
      "execution_count": 862,
      "outputs": [
        {
          "output_type": "stream",
          "text": [
            "(10500, 5)\n",
            "(4500, 4)\n"
          ],
          "name": "stdout"
        }
      ]
    },
    {
      "cell_type": "code",
      "metadata": {
        "id": "mHG4Gl0xhItw",
        "colab_type": "code",
        "colab": {
          "base_uri": "https://localhost:8080/",
          "height": 34
        },
        "outputId": "8840bf41-17d4-4a60-d657-a14edd09920d"
      },
      "source": [
        "data_set.columns"
      ],
      "execution_count": 863,
      "outputs": [
        {
          "output_type": "execute_result",
          "data": {
            "text/plain": [
              "Index(['session_id', 'startTime', 'endTime', 'ProductList', 'gender'], dtype='object')"
            ]
          },
          "metadata": {
            "tags": []
          },
          "execution_count": 863
        }
      ]
    },
    {
      "cell_type": "code",
      "metadata": {
        "id": "KuWh5ecahXL3",
        "colab_type": "code",
        "colab": {
          "base_uri": "https://localhost:8080/",
          "height": 359
        },
        "outputId": "18ae25af-ea67-471e-a29b-e0639fea3804"
      },
      "source": [
        "data_set.head(10)"
      ],
      "execution_count": 864,
      "outputs": [
        {
          "output_type": "execute_result",
          "data": {
            "text/html": [
              "<div>\n",
              "<style scoped>\n",
              "    .dataframe tbody tr th:only-of-type {\n",
              "        vertical-align: middle;\n",
              "    }\n",
              "\n",
              "    .dataframe tbody tr th {\n",
              "        vertical-align: top;\n",
              "    }\n",
              "\n",
              "    .dataframe thead th {\n",
              "        text-align: right;\n",
              "    }\n",
              "</style>\n",
              "<table border=\"1\" class=\"dataframe\">\n",
              "  <thead>\n",
              "    <tr style=\"text-align: right;\">\n",
              "      <th></th>\n",
              "      <th>session_id</th>\n",
              "      <th>startTime</th>\n",
              "      <th>endTime</th>\n",
              "      <th>ProductList</th>\n",
              "      <th>gender</th>\n",
              "    </tr>\n",
              "  </thead>\n",
              "  <tbody>\n",
              "    <tr>\n",
              "      <th>0</th>\n",
              "      <td>u16159</td>\n",
              "      <td>15/12/14 18:11</td>\n",
              "      <td>15/12/14 18:12</td>\n",
              "      <td>A00002/B00003/C00006/D28435/;A00002/B00003/C00...</td>\n",
              "      <td>female</td>\n",
              "    </tr>\n",
              "    <tr>\n",
              "      <th>1</th>\n",
              "      <td>u10253</td>\n",
              "      <td>16/12/14 14:35</td>\n",
              "      <td>16/12/14 14:41</td>\n",
              "      <td>A00001/B00009/C00031/D29404/;A00001/B00009/C00...</td>\n",
              "      <td>male</td>\n",
              "    </tr>\n",
              "    <tr>\n",
              "      <th>2</th>\n",
              "      <td>u19037</td>\n",
              "      <td>01/12/14 15:58</td>\n",
              "      <td>01/12/14 15:58</td>\n",
              "      <td>A00002/B00001/C00020/D16944/</td>\n",
              "      <td>female</td>\n",
              "    </tr>\n",
              "    <tr>\n",
              "      <th>3</th>\n",
              "      <td>u14556</td>\n",
              "      <td>23/11/14 2:57</td>\n",
              "      <td>23/11/14 3:00</td>\n",
              "      <td>A00002/B00004/C00018/D10284/;A00002/B00004/C00...</td>\n",
              "      <td>female</td>\n",
              "    </tr>\n",
              "    <tr>\n",
              "      <th>4</th>\n",
              "      <td>u24295</td>\n",
              "      <td>17/12/14 16:44</td>\n",
              "      <td>17/12/14 16:46</td>\n",
              "      <td>A00001/B00001/C00012/D30805/;A00001/B00001/C00...</td>\n",
              "      <td>male</td>\n",
              "    </tr>\n",
              "    <tr>\n",
              "      <th>5</th>\n",
              "      <td>u20964</td>\n",
              "      <td>12/12/14 15:31</td>\n",
              "      <td>12/12/14 15:31</td>\n",
              "      <td>A00002/B00002/C00081/D25039/</td>\n",
              "      <td>female</td>\n",
              "    </tr>\n",
              "    <tr>\n",
              "      <th>6</th>\n",
              "      <td>u20981</td>\n",
              "      <td>05/12/14 19:33</td>\n",
              "      <td>05/12/14 19:34</td>\n",
              "      <td>A00002/B00011/C00180/D18487/;A00002/B00011/C00...</td>\n",
              "      <td>female</td>\n",
              "    </tr>\n",
              "    <tr>\n",
              "      <th>7</th>\n",
              "      <td>u15947</td>\n",
              "      <td>09/12/14 16:02</td>\n",
              "      <td>09/12/14 16:06</td>\n",
              "      <td>A00002/B00001/C00059/D15254/;A00002/B00001/C00...</td>\n",
              "      <td>male</td>\n",
              "    </tr>\n",
              "    <tr>\n",
              "      <th>8</th>\n",
              "      <td>u18193</td>\n",
              "      <td>25/11/14 11:55</td>\n",
              "      <td>25/11/14 11:55</td>\n",
              "      <td>A00002/B00001/C00010/D06129/</td>\n",
              "      <td>male</td>\n",
              "    </tr>\n",
              "    <tr>\n",
              "      <th>9</th>\n",
              "      <td>u21820</td>\n",
              "      <td>06/12/14 16:16</td>\n",
              "      <td>06/12/14 16:17</td>\n",
              "      <td>A00002/B00001/C00010/D12841/;A00002/B00002/C00...</td>\n",
              "      <td>female</td>\n",
              "    </tr>\n",
              "  </tbody>\n",
              "</table>\n",
              "</div>"
            ],
            "text/plain": [
              "  session_id  ...  gender\n",
              "0     u16159  ...  female\n",
              "1     u10253  ...    male\n",
              "2     u19037  ...  female\n",
              "3     u14556  ...  female\n",
              "4     u24295  ...    male\n",
              "5     u20964  ...  female\n",
              "6     u20981  ...  female\n",
              "7     u15947  ...    male\n",
              "8     u18193  ...    male\n",
              "9     u21820  ...  female\n",
              "\n",
              "[10 rows x 5 columns]"
            ]
          },
          "metadata": {
            "tags": []
          },
          "execution_count": 864
        }
      ]
    },
    {
      "cell_type": "code",
      "metadata": {
        "id": "LvYPs378hhwt",
        "colab_type": "code",
        "colab": {
          "base_uri": "https://localhost:8080/",
          "height": 419
        },
        "outputId": "01655313-0e69-40c5-b855-553998227ea9"
      },
      "source": [
        "data_set"
      ],
      "execution_count": 865,
      "outputs": [
        {
          "output_type": "execute_result",
          "data": {
            "text/html": [
              "<div>\n",
              "<style scoped>\n",
              "    .dataframe tbody tr th:only-of-type {\n",
              "        vertical-align: middle;\n",
              "    }\n",
              "\n",
              "    .dataframe tbody tr th {\n",
              "        vertical-align: top;\n",
              "    }\n",
              "\n",
              "    .dataframe thead th {\n",
              "        text-align: right;\n",
              "    }\n",
              "</style>\n",
              "<table border=\"1\" class=\"dataframe\">\n",
              "  <thead>\n",
              "    <tr style=\"text-align: right;\">\n",
              "      <th></th>\n",
              "      <th>session_id</th>\n",
              "      <th>startTime</th>\n",
              "      <th>endTime</th>\n",
              "      <th>ProductList</th>\n",
              "      <th>gender</th>\n",
              "    </tr>\n",
              "  </thead>\n",
              "  <tbody>\n",
              "    <tr>\n",
              "      <th>0</th>\n",
              "      <td>u16159</td>\n",
              "      <td>15/12/14 18:11</td>\n",
              "      <td>15/12/14 18:12</td>\n",
              "      <td>A00002/B00003/C00006/D28435/;A00002/B00003/C00...</td>\n",
              "      <td>female</td>\n",
              "    </tr>\n",
              "    <tr>\n",
              "      <th>1</th>\n",
              "      <td>u10253</td>\n",
              "      <td>16/12/14 14:35</td>\n",
              "      <td>16/12/14 14:41</td>\n",
              "      <td>A00001/B00009/C00031/D29404/;A00001/B00009/C00...</td>\n",
              "      <td>male</td>\n",
              "    </tr>\n",
              "    <tr>\n",
              "      <th>2</th>\n",
              "      <td>u19037</td>\n",
              "      <td>01/12/14 15:58</td>\n",
              "      <td>01/12/14 15:58</td>\n",
              "      <td>A00002/B00001/C00020/D16944/</td>\n",
              "      <td>female</td>\n",
              "    </tr>\n",
              "    <tr>\n",
              "      <th>3</th>\n",
              "      <td>u14556</td>\n",
              "      <td>23/11/14 2:57</td>\n",
              "      <td>23/11/14 3:00</td>\n",
              "      <td>A00002/B00004/C00018/D10284/;A00002/B00004/C00...</td>\n",
              "      <td>female</td>\n",
              "    </tr>\n",
              "    <tr>\n",
              "      <th>4</th>\n",
              "      <td>u24295</td>\n",
              "      <td>17/12/14 16:44</td>\n",
              "      <td>17/12/14 16:46</td>\n",
              "      <td>A00001/B00001/C00012/D30805/;A00001/B00001/C00...</td>\n",
              "      <td>male</td>\n",
              "    </tr>\n",
              "    <tr>\n",
              "      <th>...</th>\n",
              "      <td>...</td>\n",
              "      <td>...</td>\n",
              "      <td>...</td>\n",
              "      <td>...</td>\n",
              "      <td>...</td>\n",
              "    </tr>\n",
              "    <tr>\n",
              "      <th>10495</th>\n",
              "      <td>u15442</td>\n",
              "      <td>18/11/14 7:39</td>\n",
              "      <td>18/11/14 7:42</td>\n",
              "      <td>A00002/B00002/C00007/D06407/;A00002/B00002/C00...</td>\n",
              "      <td>female</td>\n",
              "    </tr>\n",
              "    <tr>\n",
              "      <th>10496</th>\n",
              "      <td>u17986</td>\n",
              "      <td>25/11/14 15:16</td>\n",
              "      <td>25/11/14 15:16</td>\n",
              "      <td>A00006/B00030/C00334/D11660/</td>\n",
              "      <td>female</td>\n",
              "    </tr>\n",
              "    <tr>\n",
              "      <th>10497</th>\n",
              "      <td>u22508</td>\n",
              "      <td>09/12/14 10:11</td>\n",
              "      <td>09/12/14 10:11</td>\n",
              "      <td>A00002/B00002/C00007/D18028/</td>\n",
              "      <td>female</td>\n",
              "    </tr>\n",
              "    <tr>\n",
              "      <th>10498</th>\n",
              "      <td>u17087</td>\n",
              "      <td>22/11/14 11:27</td>\n",
              "      <td>22/11/14 11:27</td>\n",
              "      <td>A00003/B00012/C00131/D09453/;A00003/B00012/C00...</td>\n",
              "      <td>female</td>\n",
              "    </tr>\n",
              "    <tr>\n",
              "      <th>10499</th>\n",
              "      <td>u23137</td>\n",
              "      <td>19/12/14 3:11</td>\n",
              "      <td>19/12/14 3:19</td>\n",
              "      <td>A00002/B00001/C00010/D02309/;A00002/B00002/C00...</td>\n",
              "      <td>female</td>\n",
              "    </tr>\n",
              "  </tbody>\n",
              "</table>\n",
              "<p>10500 rows × 5 columns</p>\n",
              "</div>"
            ],
            "text/plain": [
              "      session_id  ...  gender\n",
              "0         u16159  ...  female\n",
              "1         u10253  ...    male\n",
              "2         u19037  ...  female\n",
              "3         u14556  ...  female\n",
              "4         u24295  ...    male\n",
              "...          ...  ...     ...\n",
              "10495     u15442  ...  female\n",
              "10496     u17986  ...  female\n",
              "10497     u22508  ...  female\n",
              "10498     u17087  ...  female\n",
              "10499     u23137  ...  female\n",
              "\n",
              "[10500 rows x 5 columns]"
            ]
          },
          "metadata": {
            "tags": []
          },
          "execution_count": 865
        }
      ]
    },
    {
      "cell_type": "code",
      "metadata": {
        "id": "qYSEsR8Oh-9Y",
        "colab_type": "code",
        "colab": {}
      },
      "source": [
        "from collections import Counter\n",
        "def split_Product(productList):\n",
        "  if ';' in productList:\n",
        "    prd_lst = productList.split(';')\n",
        "    #print(prd_lst)\n",
        "    count_item = len(prd_lst)\n",
        "    first_sub = prd_lst[0].split('/')[0]\n",
        "    first_subsub = prd_lst[0].split('/')[1]\n",
        "    tot_sub = []\n",
        "    tot_subsub = []\n",
        "    for item in prd_lst:\n",
        "      tot_sub.append(item.split('/')[0])\n",
        "      tot_subsub.append(item.split('/')[1])\n",
        "      unique_sub = len(set(tot_sub))\n",
        "      unique_subsub = len(set(tot_subsub))\n",
        "      most_freq_sub = max(tot_sub, key=Counter(tot_sub).get)\n",
        "  else:\n",
        "    sub_lst = productList.split('/')\n",
        "    first_sub = sub_lst[0]\n",
        "    first_subsub = sub_lst[1]\n",
        "    unique_sub, unique_subsub, count_item = 1, 1, 1\n",
        "    most_freq_sub = first_sub\n",
        "  return(count_item, first_sub, first_subsub, unique_sub, unique_subsub, most_freq_sub)\n"
      ],
      "execution_count": 0,
      "outputs": []
    },
    {
      "cell_type": "code",
      "metadata": {
        "id": "k--MQuQIiYPT",
        "colab_type": "code",
        "colab": {
          "base_uri": "https://localhost:8080/",
          "height": 221
        },
        "outputId": "7e78dc1d-1173-469a-dd87-4c3b69ec2e62"
      },
      "source": [
        "new_col_list = data_set['ProductList'].apply(lambda x: split_Product(x))\n",
        "#print(new_col_list.shape)\n",
        "print(new_col_list)"
      ],
      "execution_count": 867,
      "outputs": [
        {
          "output_type": "stream",
          "text": [
            "0        (4, A00002, B00003, 1, 1, A00002)\n",
            "1        (7, A00001, B00009, 1, 1, A00001)\n",
            "2        (1, A00002, B00001, 1, 1, A00002)\n",
            "3        (3, A00002, B00004, 1, 1, A00002)\n",
            "4        (2, A00001, B00001, 1, 1, A00001)\n",
            "                       ...                \n",
            "10495    (2, A00002, B00002, 1, 1, A00002)\n",
            "10496    (1, A00006, B00030, 1, 1, A00006)\n",
            "10497    (1, A00002, B00002, 1, 1, A00002)\n",
            "10498    (2, A00003, B00012, 1, 1, A00003)\n",
            "10499    (4, A00002, B00001, 2, 3, A00002)\n",
            "Name: ProductList, Length: 10500, dtype: object\n"
          ],
          "name": "stdout"
        }
      ]
    },
    {
      "cell_type": "code",
      "metadata": {
        "id": "YcVVvOOwnybO",
        "colab_type": "code",
        "colab": {
          "base_uri": "https://localhost:8080/",
          "height": 419
        },
        "outputId": "9bc5b4bc-87c4-4f62-fc36-b4d51ea3868d"
      },
      "source": [
        "new_col = ['ItemCount', 'FSubcategory', 'FSubSubCategory', 'UniqueSubCategory', 'UniqueSubSubCategory', 'MostFreqSubCategory']\n",
        "\n",
        "#creating data frame \n",
        "new_col_df = pd.DataFrame(new_col_list.to_list(), columns=new_col)\n",
        "new_col_df.shape\n",
        "new_col_df\n"
      ],
      "execution_count": 868,
      "outputs": [
        {
          "output_type": "execute_result",
          "data": {
            "text/html": [
              "<div>\n",
              "<style scoped>\n",
              "    .dataframe tbody tr th:only-of-type {\n",
              "        vertical-align: middle;\n",
              "    }\n",
              "\n",
              "    .dataframe tbody tr th {\n",
              "        vertical-align: top;\n",
              "    }\n",
              "\n",
              "    .dataframe thead th {\n",
              "        text-align: right;\n",
              "    }\n",
              "</style>\n",
              "<table border=\"1\" class=\"dataframe\">\n",
              "  <thead>\n",
              "    <tr style=\"text-align: right;\">\n",
              "      <th></th>\n",
              "      <th>ItemCount</th>\n",
              "      <th>FSubcategory</th>\n",
              "      <th>FSubSubCategory</th>\n",
              "      <th>UniqueSubCategory</th>\n",
              "      <th>UniqueSubSubCategory</th>\n",
              "      <th>MostFreqSubCategory</th>\n",
              "    </tr>\n",
              "  </thead>\n",
              "  <tbody>\n",
              "    <tr>\n",
              "      <th>0</th>\n",
              "      <td>4</td>\n",
              "      <td>A00002</td>\n",
              "      <td>B00003</td>\n",
              "      <td>1</td>\n",
              "      <td>1</td>\n",
              "      <td>A00002</td>\n",
              "    </tr>\n",
              "    <tr>\n",
              "      <th>1</th>\n",
              "      <td>7</td>\n",
              "      <td>A00001</td>\n",
              "      <td>B00009</td>\n",
              "      <td>1</td>\n",
              "      <td>1</td>\n",
              "      <td>A00001</td>\n",
              "    </tr>\n",
              "    <tr>\n",
              "      <th>2</th>\n",
              "      <td>1</td>\n",
              "      <td>A00002</td>\n",
              "      <td>B00001</td>\n",
              "      <td>1</td>\n",
              "      <td>1</td>\n",
              "      <td>A00002</td>\n",
              "    </tr>\n",
              "    <tr>\n",
              "      <th>3</th>\n",
              "      <td>3</td>\n",
              "      <td>A00002</td>\n",
              "      <td>B00004</td>\n",
              "      <td>1</td>\n",
              "      <td>1</td>\n",
              "      <td>A00002</td>\n",
              "    </tr>\n",
              "    <tr>\n",
              "      <th>4</th>\n",
              "      <td>2</td>\n",
              "      <td>A00001</td>\n",
              "      <td>B00001</td>\n",
              "      <td>1</td>\n",
              "      <td>1</td>\n",
              "      <td>A00001</td>\n",
              "    </tr>\n",
              "    <tr>\n",
              "      <th>...</th>\n",
              "      <td>...</td>\n",
              "      <td>...</td>\n",
              "      <td>...</td>\n",
              "      <td>...</td>\n",
              "      <td>...</td>\n",
              "      <td>...</td>\n",
              "    </tr>\n",
              "    <tr>\n",
              "      <th>10495</th>\n",
              "      <td>2</td>\n",
              "      <td>A00002</td>\n",
              "      <td>B00002</td>\n",
              "      <td>1</td>\n",
              "      <td>1</td>\n",
              "      <td>A00002</td>\n",
              "    </tr>\n",
              "    <tr>\n",
              "      <th>10496</th>\n",
              "      <td>1</td>\n",
              "      <td>A00006</td>\n",
              "      <td>B00030</td>\n",
              "      <td>1</td>\n",
              "      <td>1</td>\n",
              "      <td>A00006</td>\n",
              "    </tr>\n",
              "    <tr>\n",
              "      <th>10497</th>\n",
              "      <td>1</td>\n",
              "      <td>A00002</td>\n",
              "      <td>B00002</td>\n",
              "      <td>1</td>\n",
              "      <td>1</td>\n",
              "      <td>A00002</td>\n",
              "    </tr>\n",
              "    <tr>\n",
              "      <th>10498</th>\n",
              "      <td>2</td>\n",
              "      <td>A00003</td>\n",
              "      <td>B00012</td>\n",
              "      <td>1</td>\n",
              "      <td>1</td>\n",
              "      <td>A00003</td>\n",
              "    </tr>\n",
              "    <tr>\n",
              "      <th>10499</th>\n",
              "      <td>4</td>\n",
              "      <td>A00002</td>\n",
              "      <td>B00001</td>\n",
              "      <td>2</td>\n",
              "      <td>3</td>\n",
              "      <td>A00002</td>\n",
              "    </tr>\n",
              "  </tbody>\n",
              "</table>\n",
              "<p>10500 rows × 6 columns</p>\n",
              "</div>"
            ],
            "text/plain": [
              "       ItemCount FSubcategory  ... UniqueSubSubCategory  MostFreqSubCategory\n",
              "0              4       A00002  ...                    1               A00002\n",
              "1              7       A00001  ...                    1               A00001\n",
              "2              1       A00002  ...                    1               A00002\n",
              "3              3       A00002  ...                    1               A00002\n",
              "4              2       A00001  ...                    1               A00001\n",
              "...          ...          ...  ...                  ...                  ...\n",
              "10495          2       A00002  ...                    1               A00002\n",
              "10496          1       A00006  ...                    1               A00006\n",
              "10497          1       A00002  ...                    1               A00002\n",
              "10498          2       A00003  ...                    1               A00003\n",
              "10499          4       A00002  ...                    3               A00002\n",
              "\n",
              "[10500 rows x 6 columns]"
            ]
          },
          "metadata": {
            "tags": []
          },
          "execution_count": 868
        }
      ]
    },
    {
      "cell_type": "code",
      "metadata": {
        "id": "70-xlMnbznQi",
        "colab_type": "code",
        "colab": {}
      },
      "source": [
        "data_set = pd.concat([data_set, new_col_df], axis=1)"
      ],
      "execution_count": 0,
      "outputs": []
    },
    {
      "cell_type": "code",
      "metadata": {
        "id": "he4d9WAA7xB8",
        "colab_type": "code",
        "colab": {}
      },
      "source": [
        "#data_set['startTime'] = pd.to_datetime(data_set['startTime'])\n",
        "#data_set['endTime'] = pd.to_datetime(data_set['endTime'])\n",
        "#data_set['duration'] = data_set['endTime'] - data_set['startTime']\n",
        "#data_set['duration'] = data_set['duration'].astype('timedelta64[m]')\n",
        "#data_set['weekday'] = data_set['startTime'].dt.dayofweek\n",
        "#data_set['hour_24h'] = data_set['startTime'].dt.hour'''"
      ],
      "execution_count": 0,
      "outputs": []
    },
    {
      "cell_type": "code",
      "metadata": {
        "id": "zqfL3NB1z512",
        "colab_type": "code",
        "colab": {
          "base_uri": "https://localhost:8080/",
          "height": 609
        },
        "outputId": "4af1dbf8-1aa9-47b9-eb3f-96d8d9d81151"
      },
      "source": [
        "data_set"
      ],
      "execution_count": 871,
      "outputs": [
        {
          "output_type": "execute_result",
          "data": {
            "text/html": [
              "<div>\n",
              "<style scoped>\n",
              "    .dataframe tbody tr th:only-of-type {\n",
              "        vertical-align: middle;\n",
              "    }\n",
              "\n",
              "    .dataframe tbody tr th {\n",
              "        vertical-align: top;\n",
              "    }\n",
              "\n",
              "    .dataframe thead th {\n",
              "        text-align: right;\n",
              "    }\n",
              "</style>\n",
              "<table border=\"1\" class=\"dataframe\">\n",
              "  <thead>\n",
              "    <tr style=\"text-align: right;\">\n",
              "      <th></th>\n",
              "      <th>session_id</th>\n",
              "      <th>startTime</th>\n",
              "      <th>endTime</th>\n",
              "      <th>ProductList</th>\n",
              "      <th>gender</th>\n",
              "      <th>ItemCount</th>\n",
              "      <th>FSubcategory</th>\n",
              "      <th>FSubSubCategory</th>\n",
              "      <th>UniqueSubCategory</th>\n",
              "      <th>UniqueSubSubCategory</th>\n",
              "      <th>MostFreqSubCategory</th>\n",
              "    </tr>\n",
              "  </thead>\n",
              "  <tbody>\n",
              "    <tr>\n",
              "      <th>0</th>\n",
              "      <td>u16159</td>\n",
              "      <td>15/12/14 18:11</td>\n",
              "      <td>15/12/14 18:12</td>\n",
              "      <td>A00002/B00003/C00006/D28435/;A00002/B00003/C00...</td>\n",
              "      <td>female</td>\n",
              "      <td>4</td>\n",
              "      <td>A00002</td>\n",
              "      <td>B00003</td>\n",
              "      <td>1</td>\n",
              "      <td>1</td>\n",
              "      <td>A00002</td>\n",
              "    </tr>\n",
              "    <tr>\n",
              "      <th>1</th>\n",
              "      <td>u10253</td>\n",
              "      <td>16/12/14 14:35</td>\n",
              "      <td>16/12/14 14:41</td>\n",
              "      <td>A00001/B00009/C00031/D29404/;A00001/B00009/C00...</td>\n",
              "      <td>male</td>\n",
              "      <td>7</td>\n",
              "      <td>A00001</td>\n",
              "      <td>B00009</td>\n",
              "      <td>1</td>\n",
              "      <td>1</td>\n",
              "      <td>A00001</td>\n",
              "    </tr>\n",
              "    <tr>\n",
              "      <th>2</th>\n",
              "      <td>u19037</td>\n",
              "      <td>01/12/14 15:58</td>\n",
              "      <td>01/12/14 15:58</td>\n",
              "      <td>A00002/B00001/C00020/D16944/</td>\n",
              "      <td>female</td>\n",
              "      <td>1</td>\n",
              "      <td>A00002</td>\n",
              "      <td>B00001</td>\n",
              "      <td>1</td>\n",
              "      <td>1</td>\n",
              "      <td>A00002</td>\n",
              "    </tr>\n",
              "    <tr>\n",
              "      <th>3</th>\n",
              "      <td>u14556</td>\n",
              "      <td>23/11/14 2:57</td>\n",
              "      <td>23/11/14 3:00</td>\n",
              "      <td>A00002/B00004/C00018/D10284/;A00002/B00004/C00...</td>\n",
              "      <td>female</td>\n",
              "      <td>3</td>\n",
              "      <td>A00002</td>\n",
              "      <td>B00004</td>\n",
              "      <td>1</td>\n",
              "      <td>1</td>\n",
              "      <td>A00002</td>\n",
              "    </tr>\n",
              "    <tr>\n",
              "      <th>4</th>\n",
              "      <td>u24295</td>\n",
              "      <td>17/12/14 16:44</td>\n",
              "      <td>17/12/14 16:46</td>\n",
              "      <td>A00001/B00001/C00012/D30805/;A00001/B00001/C00...</td>\n",
              "      <td>male</td>\n",
              "      <td>2</td>\n",
              "      <td>A00001</td>\n",
              "      <td>B00001</td>\n",
              "      <td>1</td>\n",
              "      <td>1</td>\n",
              "      <td>A00001</td>\n",
              "    </tr>\n",
              "    <tr>\n",
              "      <th>...</th>\n",
              "      <td>...</td>\n",
              "      <td>...</td>\n",
              "      <td>...</td>\n",
              "      <td>...</td>\n",
              "      <td>...</td>\n",
              "      <td>...</td>\n",
              "      <td>...</td>\n",
              "      <td>...</td>\n",
              "      <td>...</td>\n",
              "      <td>...</td>\n",
              "      <td>...</td>\n",
              "    </tr>\n",
              "    <tr>\n",
              "      <th>10495</th>\n",
              "      <td>u15442</td>\n",
              "      <td>18/11/14 7:39</td>\n",
              "      <td>18/11/14 7:42</td>\n",
              "      <td>A00002/B00002/C00007/D06407/;A00002/B00002/C00...</td>\n",
              "      <td>female</td>\n",
              "      <td>2</td>\n",
              "      <td>A00002</td>\n",
              "      <td>B00002</td>\n",
              "      <td>1</td>\n",
              "      <td>1</td>\n",
              "      <td>A00002</td>\n",
              "    </tr>\n",
              "    <tr>\n",
              "      <th>10496</th>\n",
              "      <td>u17986</td>\n",
              "      <td>25/11/14 15:16</td>\n",
              "      <td>25/11/14 15:16</td>\n",
              "      <td>A00006/B00030/C00334/D11660/</td>\n",
              "      <td>female</td>\n",
              "      <td>1</td>\n",
              "      <td>A00006</td>\n",
              "      <td>B00030</td>\n",
              "      <td>1</td>\n",
              "      <td>1</td>\n",
              "      <td>A00006</td>\n",
              "    </tr>\n",
              "    <tr>\n",
              "      <th>10497</th>\n",
              "      <td>u22508</td>\n",
              "      <td>09/12/14 10:11</td>\n",
              "      <td>09/12/14 10:11</td>\n",
              "      <td>A00002/B00002/C00007/D18028/</td>\n",
              "      <td>female</td>\n",
              "      <td>1</td>\n",
              "      <td>A00002</td>\n",
              "      <td>B00002</td>\n",
              "      <td>1</td>\n",
              "      <td>1</td>\n",
              "      <td>A00002</td>\n",
              "    </tr>\n",
              "    <tr>\n",
              "      <th>10498</th>\n",
              "      <td>u17087</td>\n",
              "      <td>22/11/14 11:27</td>\n",
              "      <td>22/11/14 11:27</td>\n",
              "      <td>A00003/B00012/C00131/D09453/;A00003/B00012/C00...</td>\n",
              "      <td>female</td>\n",
              "      <td>2</td>\n",
              "      <td>A00003</td>\n",
              "      <td>B00012</td>\n",
              "      <td>1</td>\n",
              "      <td>1</td>\n",
              "      <td>A00003</td>\n",
              "    </tr>\n",
              "    <tr>\n",
              "      <th>10499</th>\n",
              "      <td>u23137</td>\n",
              "      <td>19/12/14 3:11</td>\n",
              "      <td>19/12/14 3:19</td>\n",
              "      <td>A00002/B00001/C00010/D02309/;A00002/B00002/C00...</td>\n",
              "      <td>female</td>\n",
              "      <td>4</td>\n",
              "      <td>A00002</td>\n",
              "      <td>B00001</td>\n",
              "      <td>2</td>\n",
              "      <td>3</td>\n",
              "      <td>A00002</td>\n",
              "    </tr>\n",
              "  </tbody>\n",
              "</table>\n",
              "<p>10500 rows × 11 columns</p>\n",
              "</div>"
            ],
            "text/plain": [
              "      session_id       startTime  ... UniqueSubSubCategory MostFreqSubCategory\n",
              "0         u16159  15/12/14 18:11  ...                    1              A00002\n",
              "1         u10253  16/12/14 14:35  ...                    1              A00001\n",
              "2         u19037  01/12/14 15:58  ...                    1              A00002\n",
              "3         u14556   23/11/14 2:57  ...                    1              A00002\n",
              "4         u24295  17/12/14 16:44  ...                    1              A00001\n",
              "...          ...             ...  ...                  ...                 ...\n",
              "10495     u15442   18/11/14 7:39  ...                    1              A00002\n",
              "10496     u17986  25/11/14 15:16  ...                    1              A00006\n",
              "10497     u22508  09/12/14 10:11  ...                    1              A00002\n",
              "10498     u17087  22/11/14 11:27  ...                    1              A00003\n",
              "10499     u23137   19/12/14 3:11  ...                    3              A00002\n",
              "\n",
              "[10500 rows x 11 columns]"
            ]
          },
          "metadata": {
            "tags": []
          },
          "execution_count": 871
        }
      ]
    },
    {
      "cell_type": "code",
      "metadata": {
        "id": "C0wFlBlC0IYq",
        "colab_type": "code",
        "colab": {
          "base_uri": "https://localhost:8080/",
          "height": 419
        },
        "outputId": "7de64742-5d6d-449f-a10f-e7b8a414cae2"
      },
      "source": [
        "drop_list = ['session_id', 'startTime', 'endTime', 'ProductList']\n",
        "data_set = data_set.drop(drop_list, axis=1)\n",
        "data_set"
      ],
      "execution_count": 872,
      "outputs": [
        {
          "output_type": "execute_result",
          "data": {
            "text/html": [
              "<div>\n",
              "<style scoped>\n",
              "    .dataframe tbody tr th:only-of-type {\n",
              "        vertical-align: middle;\n",
              "    }\n",
              "\n",
              "    .dataframe tbody tr th {\n",
              "        vertical-align: top;\n",
              "    }\n",
              "\n",
              "    .dataframe thead th {\n",
              "        text-align: right;\n",
              "    }\n",
              "</style>\n",
              "<table border=\"1\" class=\"dataframe\">\n",
              "  <thead>\n",
              "    <tr style=\"text-align: right;\">\n",
              "      <th></th>\n",
              "      <th>gender</th>\n",
              "      <th>ItemCount</th>\n",
              "      <th>FSubcategory</th>\n",
              "      <th>FSubSubCategory</th>\n",
              "      <th>UniqueSubCategory</th>\n",
              "      <th>UniqueSubSubCategory</th>\n",
              "      <th>MostFreqSubCategory</th>\n",
              "    </tr>\n",
              "  </thead>\n",
              "  <tbody>\n",
              "    <tr>\n",
              "      <th>0</th>\n",
              "      <td>female</td>\n",
              "      <td>4</td>\n",
              "      <td>A00002</td>\n",
              "      <td>B00003</td>\n",
              "      <td>1</td>\n",
              "      <td>1</td>\n",
              "      <td>A00002</td>\n",
              "    </tr>\n",
              "    <tr>\n",
              "      <th>1</th>\n",
              "      <td>male</td>\n",
              "      <td>7</td>\n",
              "      <td>A00001</td>\n",
              "      <td>B00009</td>\n",
              "      <td>1</td>\n",
              "      <td>1</td>\n",
              "      <td>A00001</td>\n",
              "    </tr>\n",
              "    <tr>\n",
              "      <th>2</th>\n",
              "      <td>female</td>\n",
              "      <td>1</td>\n",
              "      <td>A00002</td>\n",
              "      <td>B00001</td>\n",
              "      <td>1</td>\n",
              "      <td>1</td>\n",
              "      <td>A00002</td>\n",
              "    </tr>\n",
              "    <tr>\n",
              "      <th>3</th>\n",
              "      <td>female</td>\n",
              "      <td>3</td>\n",
              "      <td>A00002</td>\n",
              "      <td>B00004</td>\n",
              "      <td>1</td>\n",
              "      <td>1</td>\n",
              "      <td>A00002</td>\n",
              "    </tr>\n",
              "    <tr>\n",
              "      <th>4</th>\n",
              "      <td>male</td>\n",
              "      <td>2</td>\n",
              "      <td>A00001</td>\n",
              "      <td>B00001</td>\n",
              "      <td>1</td>\n",
              "      <td>1</td>\n",
              "      <td>A00001</td>\n",
              "    </tr>\n",
              "    <tr>\n",
              "      <th>...</th>\n",
              "      <td>...</td>\n",
              "      <td>...</td>\n",
              "      <td>...</td>\n",
              "      <td>...</td>\n",
              "      <td>...</td>\n",
              "      <td>...</td>\n",
              "      <td>...</td>\n",
              "    </tr>\n",
              "    <tr>\n",
              "      <th>10495</th>\n",
              "      <td>female</td>\n",
              "      <td>2</td>\n",
              "      <td>A00002</td>\n",
              "      <td>B00002</td>\n",
              "      <td>1</td>\n",
              "      <td>1</td>\n",
              "      <td>A00002</td>\n",
              "    </tr>\n",
              "    <tr>\n",
              "      <th>10496</th>\n",
              "      <td>female</td>\n",
              "      <td>1</td>\n",
              "      <td>A00006</td>\n",
              "      <td>B00030</td>\n",
              "      <td>1</td>\n",
              "      <td>1</td>\n",
              "      <td>A00006</td>\n",
              "    </tr>\n",
              "    <tr>\n",
              "      <th>10497</th>\n",
              "      <td>female</td>\n",
              "      <td>1</td>\n",
              "      <td>A00002</td>\n",
              "      <td>B00002</td>\n",
              "      <td>1</td>\n",
              "      <td>1</td>\n",
              "      <td>A00002</td>\n",
              "    </tr>\n",
              "    <tr>\n",
              "      <th>10498</th>\n",
              "      <td>female</td>\n",
              "      <td>2</td>\n",
              "      <td>A00003</td>\n",
              "      <td>B00012</td>\n",
              "      <td>1</td>\n",
              "      <td>1</td>\n",
              "      <td>A00003</td>\n",
              "    </tr>\n",
              "    <tr>\n",
              "      <th>10499</th>\n",
              "      <td>female</td>\n",
              "      <td>4</td>\n",
              "      <td>A00002</td>\n",
              "      <td>B00001</td>\n",
              "      <td>2</td>\n",
              "      <td>3</td>\n",
              "      <td>A00002</td>\n",
              "    </tr>\n",
              "  </tbody>\n",
              "</table>\n",
              "<p>10500 rows × 7 columns</p>\n",
              "</div>"
            ],
            "text/plain": [
              "       gender  ItemCount  ... UniqueSubSubCategory MostFreqSubCategory\n",
              "0      female          4  ...                    1              A00002\n",
              "1        male          7  ...                    1              A00001\n",
              "2      female          1  ...                    1              A00002\n",
              "3      female          3  ...                    1              A00002\n",
              "4        male          2  ...                    1              A00001\n",
              "...       ...        ...  ...                  ...                 ...\n",
              "10495  female          2  ...                    1              A00002\n",
              "10496  female          1  ...                    1              A00006\n",
              "10497  female          1  ...                    1              A00002\n",
              "10498  female          2  ...                    1              A00003\n",
              "10499  female          4  ...                    3              A00002\n",
              "\n",
              "[10500 rows x 7 columns]"
            ]
          },
          "metadata": {
            "tags": []
          },
          "execution_count": 872
        }
      ]
    },
    {
      "cell_type": "code",
      "metadata": {
        "id": "8r9W1l4-1d_R",
        "colab_type": "code",
        "colab": {}
      },
      "source": [
        "data_set =  pd.get_dummies(data_set)"
      ],
      "execution_count": 0,
      "outputs": []
    },
    {
      "cell_type": "code",
      "metadata": {
        "id": "Lr9TYWx12iDT",
        "colab_type": "code",
        "colab": {
          "base_uri": "https://localhost:8080/",
          "height": 34
        },
        "outputId": "f7756f31-5191-4718-9705-a9d2aa07a819"
      },
      "source": [
        "data_set.isnull().sum().sum()"
      ],
      "execution_count": 874,
      "outputs": [
        {
          "output_type": "execute_result",
          "data": {
            "text/plain": [
              "0"
            ]
          },
          "metadata": {
            "tags": []
          },
          "execution_count": 874
        }
      ]
    },
    {
      "cell_type": "code",
      "metadata": {
        "id": "30MTu85H3wY6",
        "colab_type": "code",
        "colab": {
          "base_uri": "https://localhost:8080/",
          "height": 238
        },
        "outputId": "30dea4fe-ddb1-4e90-d939-238b826e959f"
      },
      "source": [
        "from sklearn.model_selection import train_test_split\n",
        "from imblearn.over_sampling import SMOTE\n",
        "\n",
        "gender = ['gender_male', 'gender_female']\n",
        "X = data_set.drop(gender, 1)\n",
        "\n",
        "print(X.columns)\n",
        "\n",
        "Y = data_set[gender]\n",
        "print(X.shape)\n",
        "print(Y.shape)"
      ],
      "execution_count": 875,
      "outputs": [
        {
          "output_type": "stream",
          "text": [
            "Index(['ItemCount', 'UniqueSubCategory', 'UniqueSubSubCategory',\n",
            "       'FSubcategory_A00001', 'FSubcategory_A00002', 'FSubcategory_A00003',\n",
            "       'FSubcategory_A00004', 'FSubcategory_A00005', 'FSubcategory_A00006',\n",
            "       'FSubcategory_A00007',\n",
            "       ...\n",
            "       'MostFreqSubCategory_A00002', 'MostFreqSubCategory_A00003',\n",
            "       'MostFreqSubCategory_A00004', 'MostFreqSubCategory_A00005',\n",
            "       'MostFreqSubCategory_A00006', 'MostFreqSubCategory_A00007',\n",
            "       'MostFreqSubCategory_A00008', 'MostFreqSubCategory_A00009',\n",
            "       'MostFreqSubCategory_A00010', 'MostFreqSubCategory_A00011'],\n",
            "      dtype='object', length=107)\n",
            "(10500, 107)\n",
            "(10500, 2)\n"
          ],
          "name": "stdout"
        }
      ]
    },
    {
      "cell_type": "code",
      "metadata": {
        "id": "q48AqzW84eBr",
        "colab_type": "code",
        "colab": {
          "base_uri": "https://localhost:8080/",
          "height": 731
        },
        "outputId": "e8700533-0b0d-4467-d208-20092bf59d52"
      },
      "source": [
        "#sm = SMOTE(random_state=12, ratio = \"minority\")\n",
        "#X_train, Y_train = sm.fit_sample(X_train, Y_train)\n",
        "\n",
        "val_size = 0.25\n",
        "\n",
        "X_train, X_val, Y_train, Y_val = train_test_split(X, Y, test_size=val_size)\n",
        "\n",
        "X_train.fillna(X_train.mean(), inplace=True)\n",
        "Y_train.fillna(Y_train.mean(), inplace=True)\n",
        "X_val.fillna(X_train.mean(), inplace=True)\n",
        "Y_val.fillna(Y_train.mean(), inplace=True)\n",
        "\n",
        "print(Y_train)\n",
        "print(Y_val)\n",
        "print(X_val)"
      ],
      "execution_count": 876,
      "outputs": [
        {
          "output_type": "stream",
          "text": [
            "       gender_male  gender_female\n",
            "4258             1              0\n",
            "2440             1              0\n",
            "8835             0              1\n",
            "4362             0              1\n",
            "8050             0              1\n",
            "...            ...            ...\n",
            "1966             0              1\n",
            "10222            0              1\n",
            "3295             0              1\n",
            "1834             0              1\n",
            "5946             0              1\n",
            "\n",
            "[7875 rows x 2 columns]\n",
            "      gender_male  gender_female\n",
            "3691            0              1\n",
            "7092            0              1\n",
            "1223            0              1\n",
            "7173            0              1\n",
            "4100            0              1\n",
            "...           ...            ...\n",
            "5247            1              0\n",
            "5584            0              1\n",
            "4805            0              1\n",
            "1751            0              1\n",
            "1865            1              0\n",
            "\n",
            "[2625 rows x 2 columns]\n",
            "      ItemCount  ...  MostFreqSubCategory_A00011\n",
            "3691          1  ...                           0\n",
            "7092          1  ...                           0\n",
            "1223          3  ...                           0\n",
            "7173          1  ...                           0\n",
            "4100          5  ...                           0\n",
            "...         ...  ...                         ...\n",
            "5247          1  ...                           0\n",
            "5584          3  ...                           0\n",
            "4805          1  ...                           0\n",
            "1751          2  ...                           0\n",
            "1865          1  ...                           0\n",
            "\n",
            "[2625 rows x 107 columns]\n"
          ],
          "name": "stdout"
        }
      ]
    },
    {
      "cell_type": "code",
      "metadata": {
        "id": "0pqJdXFn5eb6",
        "colab_type": "code",
        "colab": {}
      },
      "source": [
        "from sklearn.ensemble import RandomForestClassifier\n",
        "from sklearn.metrics import classification_report\n",
        "from sklearn.metrics import f1_score\n",
        "from sklearn.metrics import accuracy_score\n",
        "from sklearn.metrics import recall_score"
      ],
      "execution_count": 0,
      "outputs": []
    },
    {
      "cell_type": "code",
      "metadata": {
        "id": "KlzJvRAOCzYa",
        "colab_type": "code",
        "colab": {
          "base_uri": "https://localhost:8080/",
          "height": 34
        },
        "outputId": "c9274a91-4126-418b-d91d-ba12292b0e2d"
      },
      "source": [
        "clf = RandomForestClassifier()\n",
        "clf = clf.fit(X_train,Y_train)\n",
        "\n",
        "X_val.isnull().sum().sum()"
      ],
      "execution_count": 878,
      "outputs": [
        {
          "output_type": "execute_result",
          "data": {
            "text/plain": [
              "0"
            ]
          },
          "metadata": {
            "tags": []
          },
          "execution_count": 878
        }
      ]
    },
    {
      "cell_type": "code",
      "metadata": {
        "id": "fWgXM-EvC83r",
        "colab_type": "code",
        "colab": {
          "base_uri": "https://localhost:8080/",
          "height": 51
        },
        "outputId": "b5fd38c5-7995-4914-b29b-9e5b33e8aa75"
      },
      "source": [
        "print(\"Evalute based on validation set\")\n",
        "print(\"accuracy score\" + \" %s\" % accuracy_score(Y_val, clf.predict(X_val)))"
      ],
      "execution_count": 879,
      "outputs": [
        {
          "output_type": "stream",
          "text": [
            "Evalute based on validation set\n",
            "accuracy score 0.8666666666666667\n"
          ],
          "name": "stdout"
        }
      ]
    },
    {
      "cell_type": "code",
      "metadata": {
        "id": "Of7UOD3aJPf2",
        "colab_type": "code",
        "colab": {
          "base_uri": "https://localhost:8080/",
          "height": 68
        },
        "outputId": "19a804f4-548a-4b02-f3ab-ec0707f48849"
      },
      "source": [
        "new_col_list1 = test_data_set['ProductList'].apply(lambda x: split_Product(x))\n",
        "new_col1 = ['ItemCount', 'FSubcategory', 'FSubSubCategory', 'UniqueSubCategory', 'UniqueSubSubCategory', 'MostFreqSubCategory']\n",
        "new_col_df1 = pd.DataFrame(new_col_list1.to_list() , columns=new_col1)\n",
        "new_col_df1.shape\n",
        "test_data_set = pd.concat([test_data_set, new_col_df1], axis=1)\n",
        "drop_list = ['session_id', 'startTime', 'endTime', 'ProductList']\n",
        "test_data_set = test_data_set.drop(drop_list, axis=1)\n",
        "\n",
        "test_data_set =  pd.get_dummies(test_data_set)\n",
        "print(test_data_set.isnull().sum().sum())\n",
        "#test_data_set = test_data_set.fillna(test_data_set.mean(), inplace=True)\n",
        "test_data_set = pd.DataFrame(test_data_set, columns=X.columns)\n",
        "print(test_data_set.isnull().sum().sum())\n",
        "test_data_set = test_data_set.fillna(0)\n",
        "print(test_data_set.isnull().sum().sum())\n"
      ],
      "execution_count": 880,
      "outputs": [
        {
          "output_type": "stream",
          "text": [
            "0\n",
            "58500\n",
            "0\n"
          ],
          "name": "stdout"
        }
      ]
    },
    {
      "cell_type": "code",
      "metadata": {
        "id": "wZxWNgFFVH12",
        "colab_type": "code",
        "colab": {}
      },
      "source": [
        "#print(test_data_set.head())\n",
        "test_data_set.isnull().sum().sum().sum()\n",
        "pred = pd.DataFrame(clf.predict(test_data_set), columns=gender)"
      ],
      "execution_count": 0,
      "outputs": []
    },
    {
      "cell_type": "code",
      "metadata": {
        "id": "h84XEMCMdqGQ",
        "colab_type": "code",
        "colab": {}
      },
      "source": [
        "pd.DataFrame(clf.predict(test_data_set)).to_csv(\"predicted_result.csv\", index=False)"
      ],
      "execution_count": 0,
      "outputs": []
    },
    {
      "cell_type": "code",
      "metadata": {
        "id": "VBTrmPN3t61n",
        "colab_type": "code",
        "colab": {}
      },
      "source": [
        ""
      ],
      "execution_count": 0,
      "outputs": []
    }
  ]
}